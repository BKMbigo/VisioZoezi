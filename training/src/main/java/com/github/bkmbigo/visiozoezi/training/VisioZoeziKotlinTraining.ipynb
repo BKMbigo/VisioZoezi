{
 "cells": [
  {
   "cell_type": "code",
   "execution_count": 2,
   "metadata": {
    "collapsed": true
   },
   "outputs": [
    {
     "name": "stderr",
     "output_type": "stream",
     "text": [
      "Failed to process '%use numpy(0.1.4)' command. Unknown library 'numpy@default'\n",
      "org.jetbrains.kotlinx.jupyter.exceptions.ReplException: Unknown library 'numpy@default'\n",
      "org.jetbrains.kotlinx.jupyter.exceptions.ReplPreprocessingException: Failed to process '%use numpy(0.1.4)' command. Unknown library 'numpy@default'\n",
      "\tat org.jetbrains.kotlinx.jupyter.magics.AbstractMagicsHandler.handle(AbstractMagicsHandler.kt:51)\n",
      "\tat org.jetbrains.kotlinx.jupyter.magics.AbstractMagicsProcessor$Companion.processSingleMagic(AbstractMagicsProcessor.kt:66)\n",
      "\tat org.jetbrains.kotlinx.jupyter.magics.MagicsProcessor.processMagics(MagicsProcessor.kt:14)\n",
      "\tat org.jetbrains.kotlinx.jupyter.magics.MagicsProcessor.processMagics$default(MagicsProcessor.kt:10)\n",
      "\tat org.jetbrains.kotlinx.jupyter.magics.MagicsProcessor.process(MagicsProcessor.kt:20)\n",
      "\tat org.jetbrains.kotlinx.jupyter.magics.CompoundCodePreprocessor.process(CompoundCodePreprocessor.kt:18)\n",
      "\tat org.jetbrains.kotlinx.jupyter.repl.impl.CellExecutorImpl.execute(CellExecutorImpl.kt:56)\n",
      "\tat org.jetbrains.kotlinx.jupyter.repl.CellExecutor$DefaultImpls.execute$default(CellExecutor.kt:15)\n",
      "\tat org.jetbrains.kotlinx.jupyter.ReplForJupyterImpl$evalEx$1.invoke(repl.kt:451)\n",
      "\tat org.jetbrains.kotlinx.jupyter.ReplForJupyterImpl$evalEx$1.invoke(repl.kt:440)\n",
      "\tat org.jetbrains.kotlinx.jupyter.ReplForJupyterImpl.withEvalContext(repl.kt:404)\n",
      "\tat org.jetbrains.kotlinx.jupyter.ReplForJupyterImpl.evalEx(repl.kt:440)\n",
      "\tat org.jetbrains.kotlinx.jupyter.ReplForJupyterImpl.eval(repl.kt:492)\n",
      "\tat org.jetbrains.kotlinx.jupyter.messaging.ProtocolKt$shellMessagesHandler$2$res$1.invoke(protocol.kt:321)\n",
      "\tat org.jetbrains.kotlinx.jupyter.messaging.ProtocolKt$shellMessagesHandler$2$res$1.invoke(protocol.kt:320)\n",
      "\tat org.jetbrains.kotlinx.jupyter.JupyterExecutorImpl$runExecution$execThread$1.invoke(execution.kt:33)\n",
      "\tat org.jetbrains.kotlinx.jupyter.JupyterExecutorImpl$runExecution$execThread$1.invoke(execution.kt:31)\n",
      "\tat kotlin.concurrent.ThreadsKt$thread$thread$1.run(Thread.kt:30)\n",
      "Caused by: org.jetbrains.kotlinx.jupyter.exceptions.ReplException: Unknown library 'numpy@default'\n",
      "\tat org.jetbrains.kotlinx.jupyter.libraries.LibrariesProcessorImpl.processNewLibraries(LibrariesProcessorImpl.kt:32)\n",
      "\tat org.jetbrains.kotlinx.jupyter.magics.UseMagicsHandler.handleUse(UseMagicsHandler.kt:15)\n",
      "\tat org.jetbrains.kotlinx.jupyter.magics.AbstractMagicsHandler$callbackMap$1.invoke(AbstractMagicsHandler.kt:26)\n",
      "\tat org.jetbrains.kotlinx.jupyter.magics.AbstractMagicsHandler$callbackMap$1.invoke(AbstractMagicsHandler.kt:26)\n",
      "\tat org.jetbrains.kotlinx.jupyter.magics.AbstractMagicsHandler.handle(AbstractMagicsHandler.kt:62)\n",
      "\tat org.jetbrains.kotlinx.jupyter.magics.AbstractMagicsHandler.handle(AbstractMagicsHandler.kt:48)\n",
      "\t... 17 more\n",
      "\n"
     ]
    }
   ],
   "source": [
    "%use numpy(0.1.4)"
   ]
  }
 ],
 "metadata": {
  "kernelspec": {
   "display_name": "Kotlin",
   "language": "kotlin",
   "name": "kotlin"
  },
  "language_info": {
   "name": "kotlin",
   "version": "1.8.0-dev-3517",
   "mimetype": "text/x-kotlin",
   "file_extension": ".kt",
   "pygments_lexer": "kotlin",
   "codemirror_mode": "text/x-kotlin",
   "nbconvert_exporter": ""
  }
 },
 "nbformat": 4,
 "nbformat_minor": 0
}
