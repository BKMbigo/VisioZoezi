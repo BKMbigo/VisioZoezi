{
 "cells": [
  {
   "cell_type": "code",
   "execution_count": 9,
   "metadata": {
    "collapsed": true
   },
   "outputs": [],
   "source": [
    "import h5py\n",
    "import pandas as pd\n",
    "from sklearn.model_selection import train_test_split"
   ]
  },
  {
   "cell_type": "code",
   "execution_count": 3,
   "outputs": [],
   "source": [
    "df = pd.read_csv('TrainingData/total_data.csv')"
   ],
   "metadata": {
    "collapsed": false
   }
  },
  {
   "cell_type": "code",
   "execution_count": 4,
   "outputs": [
    {
     "name": "stdout",
     "output_type": "stream",
     "text": [
      "     nose_y    nose_x  left_eye_x  left_eye_y  right_eye_x  right_eye_y  \\\n",
      "0  0.329292  0.297317    0.332816    0.282269     0.324753     0.286205   \n",
      "1  0.375047  0.267884    0.384171    0.252720     0.365603     0.264367   \n",
      "2  0.365208  0.279390    0.372716    0.265197     0.360871     0.270302   \n",
      "3  0.364967  0.283367    0.369529    0.269774     0.363523     0.272562   \n",
      "4  0.367498  0.280505    0.375321    0.261589     0.357052     0.268579   \n",
      "\n",
      "   left_ear_x  left_ear_y  right_ear_x  right_ear_y  ...  right_hip_y  \\\n",
      "0    0.359077    0.254097     0.344341     0.261913  ...     0.435950   \n",
      "1    0.415422    0.244471     0.366902     0.270887  ...     0.391646   \n",
      "2    0.398907    0.251214     0.377272     0.256283  ...     0.380826   \n",
      "3    0.396489    0.246667     0.385569     0.249659  ...     0.385789   \n",
      "4    0.409615    0.245236     0.364378     0.256592  ...     0.405076   \n",
      "\n",
      "   left_knee_x  left_knee_y  right_knee_x  right_knee_y  left_ankle_x  \\\n",
      "0     0.368622     0.430554      0.371431      0.428129      0.352309   \n",
      "1     0.393522     0.401819      0.388678      0.413392      0.391157   \n",
      "2     0.396139     0.366002      0.394264      0.356624      0.392958   \n",
      "3     0.393846     0.370268      0.388527      0.368418      0.374188   \n",
      "4     0.460180     0.361404      0.406353      0.361087      0.402100   \n",
      "\n",
      "   left_ankle_y  right_ankle_x  right_ankle_y  target  \n",
      "0      0.425358       0.351600       0.421462       1  \n",
      "1      0.415129       0.379123       0.424694       1  \n",
      "2      0.394495       0.403476       0.394515       1  \n",
      "3      0.397901       0.390215       0.410205       1  \n",
      "4      0.361346       0.471500       0.374447       1  \n",
      "\n",
      "[5 rows x 35 columns]\n"
     ]
    }
   ],
   "source": [
    "print(df.head())"
   ],
   "metadata": {
    "collapsed": false
   }
  },
  {
   "cell_type": "code",
   "execution_count": 5,
   "outputs": [
    {
     "name": "stdout",
     "output_type": "stream",
     "text": [
      "(376, 34)\n",
      "(376,)\n"
     ]
    }
   ],
   "source": [
    "x_data = df.drop(\"target\", axis=1)\n",
    "y_data = df.target\n",
    "\n",
    "print(x_data.shape)\n",
    "print(y_data.shape)"
   ],
   "metadata": {
    "collapsed": false
   }
  },
  {
   "cell_type": "code",
   "execution_count": 10,
   "outputs": [],
   "source": [
    "x_train, x_test, y_train, y_test = train_test_split(x_data, y_data,test_size=0.05)"
   ],
   "metadata": {
    "collapsed": false
   }
  },
  {
   "cell_type": "code",
   "execution_count": 6,
   "outputs": [],
   "source": [
    "import tensorflow as tf\n",
    "from tensorflow import keras"
   ],
   "metadata": {
    "collapsed": false
   }
  },
  {
   "cell_type": "code",
   "execution_count": 12,
   "outputs": [
    {
     "name": "stdout",
     "output_type": "stream",
     "text": [
      "Model: \"sequential_2\"\n",
      "_________________________________________________________________\n",
      " Layer (type)                Output Shape              Param #   \n",
      "=================================================================\n",
      " dense_8 (Dense)             (None, 152)               5320      \n",
      "                                                                 \n",
      " dense_9 (Dense)             (None, 152)               23256     \n",
      "                                                                 \n",
      " dense_10 (Dense)            (None, 38)                5814      \n",
      "                                                                 \n",
      " dense_11 (Dense)            (None, 1)                 39        \n",
      "                                                                 \n",
      "=================================================================\n",
      "Total params: 34,429\n",
      "Trainable params: 34,429\n",
      "Non-trainable params: 0\n",
      "_________________________________________________________________\n",
      "Epoch 1/20\n",
      "12/12 [==============================] - 3s 6ms/step - loss: 0.5175 - accuracy: 0.0000e+00\n",
      "Epoch 2/20\n",
      "12/12 [==============================] - 0s 6ms/step - loss: 0.3291 - accuracy: 0.0000e+00\n",
      "Epoch 3/20\n",
      "12/12 [==============================] - 0s 6ms/step - loss: 0.2279 - accuracy: 0.0000e+00\n",
      "Epoch 4/20\n",
      "12/12 [==============================] - 0s 5ms/step - loss: 0.1629 - accuracy: 0.0000e+00\n",
      "Epoch 5/20\n",
      "12/12 [==============================] - 0s 5ms/step - loss: 0.1603 - accuracy: 0.0000e+00\n",
      "Epoch 6/20\n",
      "12/12 [==============================] - 0s 4ms/step - loss: 0.1283 - accuracy: 0.0000e+00\n",
      "Epoch 7/20\n",
      "12/12 [==============================] - 0s 6ms/step - loss: 0.1141 - accuracy: 0.0000e+00\n",
      "Epoch 8/20\n",
      "12/12 [==============================] - 0s 6ms/step - loss: 0.1093 - accuracy: 0.0000e+00\n",
      "Epoch 9/20\n",
      "12/12 [==============================] - 0s 5ms/step - loss: 0.0904 - accuracy: 0.0000e+00\n",
      "Epoch 10/20\n",
      "12/12 [==============================] - 0s 5ms/step - loss: 0.0994 - accuracy: 0.0000e+00\n",
      "Epoch 11/20\n",
      "12/12 [==============================] - 0s 4ms/step - loss: 0.1043 - accuracy: 0.0000e+00\n",
      "Epoch 12/20\n",
      "12/12 [==============================] - 0s 4ms/step - loss: 0.0875 - accuracy: 0.0000e+00\n",
      "Epoch 13/20\n",
      "12/12 [==============================] - 0s 6ms/step - loss: 0.0760 - accuracy: 0.0000e+00\n",
      "Epoch 14/20\n",
      "12/12 [==============================] - 0s 5ms/step - loss: 0.0618 - accuracy: 0.0000e+00\n",
      "Epoch 15/20\n",
      "12/12 [==============================] - 0s 4ms/step - loss: 0.0640 - accuracy: 0.0000e+00\n",
      "Epoch 16/20\n",
      "12/12 [==============================] - 0s 5ms/step - loss: 0.0643 - accuracy: 0.0000e+00\n",
      "Epoch 17/20\n",
      "12/12 [==============================] - 0s 4ms/step - loss: 0.0794 - accuracy: 0.0000e+00\n",
      "Epoch 18/20\n",
      "12/12 [==============================] - 0s 4ms/step - loss: 0.0681 - accuracy: 0.0000e+00\n",
      "Epoch 19/20\n",
      "12/12 [==============================] - 0s 4ms/step - loss: 0.0609 - accuracy: 0.0000e+00\n",
      "Epoch 20/20\n",
      "12/12 [==============================] - 0s 6ms/step - loss: 0.0546 - accuracy: 0.0000e+00\n"
     ]
    },
    {
     "data": {
      "text/plain": "<keras.callbacks.History at 0x137892a9ea0>"
     },
     "execution_count": 12,
     "metadata": {},
     "output_type": "execute_result"
    }
   ],
   "source": [
    "model = keras.Sequential()\n",
    "model.add(keras.layers.Dense(152, input_shape=(34,), activation=keras.activations.relu))\n",
    "model.add(keras.layers.Dense(152, activation=keras.activations.relu))\n",
    "model.add(keras.layers.Dense(38, activation=keras.activations.relu))\n",
    "model.add(keras.layers.Dense(1, activation=keras.activations.sigmoid))\n",
    "\n",
    "model.summary()\n",
    "\n",
    "model.compile(\n",
    "    optimizer=keras.optimizers.Adam(),\n",
    "    loss=keras.losses.BinaryCrossentropy(),\n",
    "    metrics=[keras.metrics.Accuracy()]\n",
    ")\n",
    "\n",
    "model.fit(\n",
    "    x = x_train,\n",
    "    y = y_train,\n",
    "    epochs=20\n",
    ")"
   ],
   "metadata": {
    "collapsed": false
   }
  },
  {
   "cell_type": "code",
   "execution_count": 13,
   "outputs": [
    {
     "name": "stderr",
     "output_type": "stream",
     "text": [
      "WARNING:absl:Found untraced functions such as _update_step_xla while saving (showing 1 of 1). These functions will not be directly callable after loading.\n"
     ]
    },
    {
     "name": "stdout",
     "output_type": "stream",
     "text": [
      "INFO:tensorflow:Assets written to: C:\\Users\\bkmbi\\AppData\\Local\\Temp\\tmpbt288g0d\\assets\n"
     ]
    },
    {
     "name": "stderr",
     "output_type": "stream",
     "text": [
      "INFO:tensorflow:Assets written to: C:\\Users\\bkmbi\\AppData\\Local\\Temp\\tmpbt288g0d\\assets\n"
     ]
    }
   ],
   "source": [
    "converter = tf.lite.TFLiteConverter.from_keras_model(model)\n",
    "tflite_model = converter.convert()"
   ],
   "metadata": {
    "collapsed": false
   }
  },
  {
   "cell_type": "code",
   "execution_count": 15,
   "outputs": [],
   "source": [
    "with open('models/pose_classifier_push_up.tflite', 'wb') as f:\n",
    "    f.write(tflite_model)"
   ],
   "metadata": {
    "collapsed": false
   }
  },
  {
   "cell_type": "code",
   "execution_count": 16,
   "outputs": [],
   "source": [
    "model.save(\"models/pose_classifier_push_up.h5\")"
   ],
   "metadata": {
    "collapsed": false
   }
  }
 ],
 "metadata": {
  "kernelspec": {
   "display_name": "Python 3",
   "language": "python",
   "name": "python3"
  },
  "language_info": {
   "codemirror_mode": {
    "name": "ipython",
    "version": 2
   },
   "file_extension": ".py",
   "mimetype": "text/x-python",
   "name": "python",
   "nbconvert_exporter": "python",
   "pygments_lexer": "ipython2",
   "version": "2.7.6"
  }
 },
 "nbformat": 4,
 "nbformat_minor": 0
}
